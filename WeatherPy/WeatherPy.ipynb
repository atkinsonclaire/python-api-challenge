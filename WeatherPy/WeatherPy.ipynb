{
 "cells": [
  {
   "cell_type": "markdown",
   "metadata": {},
   "source": [
    "# WeatherPy\n",
    "----\n",
    "\n",
    "#### Note\n",
    "* Instructions have been included for each segment. You do not have to follow them exactly, but they are included to help you think through the steps."
   ]
  },
  {
   "cell_type": "code",
   "execution_count": 1,
   "metadata": {
    "scrolled": true
   },
   "outputs": [],
   "source": [
    "# Dependencies and Setup\n",
    "import matplotlib.pyplot as plt\n",
    "import pandas as pd\n",
    "import numpy as np\n",
    "import requests\n",
    "import time\n",
    "from scipy.stats import linregress\n",
    "\n",
    "# Import API key\n",
    "from api_keys import weather_api_key\n",
    "\n",
    "# Incorporated citipy to determine city based on latitude and longitude\n",
    "from citipy import citipy\n",
    "\n",
    "# Output File (CSV)\n",
    "output_data_file = \"output_data/cities.csv\"\n",
    "\n",
    "# Range of latitudes and longitudes\n",
    "lat_range = (-90, 90)\n",
    "lng_range = (-180, 180)"
   ]
  },
  {
   "cell_type": "markdown",
   "metadata": {},
   "source": [
    "## Generate Cities List"
   ]
  },
  {
   "cell_type": "code",
   "execution_count": 2,
   "metadata": {},
   "outputs": [
    {
     "name": "stdout",
     "output_type": "stream",
     "text": [
      "591\n"
     ]
    }
   ],
   "source": [
    "# List for holding lat_lngs and cities\n",
    "lat_lngs = []\n",
    "cities = []\n",
    "\n",
    "# Create a set of random lat and lng combinations\n",
    "lats = np.random.uniform(lat_range[0], lat_range[1], size=1500)\n",
    "lngs = np.random.uniform(lng_range[0], lng_range[1], size=1500)\n",
    "lat_lngs = zip(lats, lngs)\n",
    "\n",
    "# Identify nearest city for each lat, lng combination\n",
    "for lat_lng in lat_lngs:\n",
    "    city = citipy.nearest_city(lat_lng[0], lat_lng[1]).city_name\n",
    "    \n",
    "    # If the city is unique, then add it to a our cities list\n",
    "    if city not in cities:\n",
    "        cities.append(city)\n",
    "\n",
    "# Print the city count to confirm sufficient count\n",
    "print(len(cities))\n"
   ]
  },
  {
   "cell_type": "markdown",
   "metadata": {},
   "source": [
    "### Perform API Calls\n",
    "* Perform a weather check on each city using a series of successive API calls.\n",
    "* Include a print log of each city as it'sbeing processed (with the city number and city name).\n"
   ]
  },
  {
   "cell_type": "code",
   "execution_count": 3,
   "metadata": {},
   "outputs": [
    {
     "name": "stdout",
     "output_type": "stream",
     "text": [
      "Beginning Data Retrieval\n",
      "--------------------\n",
      "Processing Record 0 of Set 1 | provideniya\n",
      "Processing Record 1 of Set 1 | aklavik\n",
      "Processing Record 2 of Set 1 | ponta do sol\n",
      "Processing Record 3 of Set 1 | kodiak\n",
      "Processing Record 4 of Set 1 | vao\n",
      "Processing Record 5 of Set 1 | bethel\n",
      "Processing Record 6 of Set 1 | busselton\n",
      "Processing Record 7 of Set 1 | lasa\n",
      "Processing Record 8 of Set 1 | rikitea\n",
      "Processing Record 9 of Set 1 | cape town\n",
      "Processing Record 10 of Set 1 | torbay\n",
      "Processing Record 11 of Set 1 | saldanha\n",
      "Processing Record 12 of Set 1 | chokurdakh\n",
      "Processing Record 13 of Set 1 | nhulunbuy\n",
      "Processing Record 14 of Set 1 | tiznit\n",
      "Processing Record 15 of Set 1 | port alfred\n",
      "Processing Record 16 of Set 1 | zhangye\n",
      "Processing Record 17 of Set 1 | miles city\n",
      "Processing Record 18 of Set 1 | yumen\n",
      "Processing Record 19 of Set 1 | cabo san lucas\n",
      "Processing Record 20 of Set 1 | kapaa\n",
      "Processing Record 21 of Set 1 | severo-kurilsk\n",
      "Processing Record 22 of Set 1 | atuona\n",
      "Processing Record 23 of Set 1 | codrington\n",
      "Processing Record 24 of Set 1 | katsuura\n",
      "Processing Record 25 of Set 1 | bodden town\n",
      "Processing Record 26 of Set 1 | yirol\n",
      "Processing Record 27 of Set 1 | ushuaia\n",
      "Processing Record 28 of Set 1 | iqaluit\n",
      "Processing Record 29 of Set 1 | port keats\n",
      "Processing Record 30 of Set 1 | illoqqortoormiut\n",
      "Processing Record 31 of Set 1 | silvan\n",
      "Processing Record 32 of Set 1 | jamestown\n",
      "Processing Record 33 of Set 1 | maceio\n",
      "Processing Record 34 of Set 1 | kuala terengganu\n",
      "Processing Record 35 of Set 1 | bar harbor\n",
      "Processing Record 36 of Set 1 | hobart\n",
      "Processing Record 37 of Set 1 | mataura\n",
      "Processing Record 38 of Set 1 | warqla\n",
      "Processing Record 39 of Set 1 | albany\n",
      "Processing Record 40 of Set 1 | bredasdorp\n",
      "Processing Record 41 of Set 1 | tuktoyaktuk\n",
      "Processing Record 42 of Set 1 | san pedro\n",
      "Processing Record 43 of Set 1 | bluff\n",
      "Processing Record 44 of Set 1 | abnub\n",
      "Processing Record 45 of Set 1 | vaini\n",
      "Processing Record 46 of Set 1 | ereymentau\n",
      "Processing Record 47 of Set 1 | avarua\n",
      "Processing Record 48 of Set 1 | kruisfontein\n",
      "Processing Record 49 of Set 1 | ankang\n",
      "Processing Record 50 of Set 1 | tautira\n",
      "Processing Record 51 of Set 1 | nanortalik\n",
      "Processing Record 52 of Set 1 | portland\n",
      "Processing Record 53 of Set 1 | mar del plata\n",
      "Processing Record 54 of Set 1 | hermanus\n",
      "Processing Record 55 of Set 1 | thinadhoo\n",
      "Processing Record 56 of Set 1 | new norfolk\n",
      "Processing Record 57 of Set 1 | upernavik\n",
      "Processing Record 58 of Set 1 | samusu\n",
      "Processing Record 59 of Set 1 | acari\n",
      "Processing Record 60 of Set 1 | cherskiy\n",
      "Processing Record 61 of Set 1 | saskylakh\n",
      "Processing Record 62 of Set 1 | san andres\n",
      "Processing Record 63 of Set 1 | punta arenas\n",
      "Processing Record 64 of Set 1 | tendukheda\n",
      "Processing Record 65 of Set 1 | belushya guba\n",
      "Processing Record 66 of Set 1 | vanimo\n",
      "Processing Record 67 of Set 1 | najran\n",
      "Processing Record 68 of Set 1 | yellowknife\n",
      "Processing Record 69 of Set 1 | souillac\n",
      "Processing Record 70 of Set 1 | florence\n",
      "Processing Record 71 of Set 1 | syracuse\n",
      "Processing Record 72 of Set 1 | sexsmith\n",
      "Processing Record 73 of Set 1 | san joaquin\n",
      "Processing Record 74 of Set 1 | hirado\n",
      "Processing Record 75 of Set 1 | winchester\n",
      "Processing Record 76 of Set 1 | alotau\n",
      "Processing Record 77 of Set 1 | beruni\n",
      "Processing Record 78 of Set 1 | cayenne\n",
      "Processing Record 79 of Set 1 | barentsburg\n",
      "Processing Record 80 of Set 1 | chapais\n",
      "Processing Record 81 of Set 1 | dunda\n",
      "Processing Record 82 of Set 1 | victoria\n",
      "Processing Record 83 of Set 1 | kahului\n",
      "Processing Record 84 of Set 1 | zhigansk\n",
      "Processing Record 85 of Set 1 | abancay\n",
      "Processing Record 86 of Set 1 | puerto baquerizo moreno\n",
      "Processing Record 87 of Set 1 | puerto ayora\n",
      "Processing Record 88 of Set 1 | georgetown\n",
      "Processing Record 89 of Set 1 | airai\n",
      "Processing Record 90 of Set 1 | hirara\n",
      "Processing Record 91 of Set 1 | tsihombe\n",
      "Processing Record 92 of Set 1 | olivet\n",
      "Processing Record 93 of Set 1 | hithadhoo\n",
      "Processing Record 94 of Set 1 | fuente de oro\n",
      "Processing Record 95 of Set 1 | amderma\n",
      "Processing Record 96 of Set 1 | tanout\n",
      "Processing Record 97 of Set 1 | tidore\n",
      "Processing Record 98 of Set 1 | ribeira grande\n",
      "Processing Record 99 of Set 1 | shemonaikha\n",
      "Processing Record 100 of Set 1 | east london\n",
      "Processing Record 101 of Set 1 | champasak\n",
      "Processing Record 102 of Set 1 | esmeralda\n",
      "Processing Record 103 of Set 1 | sorong\n",
      "Processing Record 104 of Set 1 | saleaula\n",
      "Processing Record 105 of Set 1 | shelburne\n",
      "Processing Record 106 of Set 1 | saint-philippe\n",
      "Processing Record 107 of Set 1 | isangel\n",
      "Processing Record 108 of Set 1 | leningradskiy\n",
      "Processing Record 109 of Set 1 | longyearbyen\n",
      "Processing Record 110 of Set 1 | malakal\n",
      "Processing Record 111 of Set 1 | tutin\n",
      "Processing Record 112 of Set 1 | taolanaro\n",
      "Processing Record 113 of Set 1 | rio gallegos\n",
      "Processing Record 114 of Set 1 | jardim\n",
      "Processing Record 115 of Set 1 | lebowakgomo\n",
      "Processing Record 116 of Set 1 | krasnoborsk\n",
      "Processing Record 117 of Set 1 | dikson\n",
      "Processing Record 118 of Set 1 | barrow\n",
      "Processing Record 119 of Set 1 | oranjemund\n",
      "Processing Record 120 of Set 1 | aguimes\n",
      "Processing Record 121 of Set 1 | navirai\n",
      "Processing Record 122 of Set 1 | faanui\n",
      "Processing Record 123 of Set 1 | grand river south east\n",
      "Processing Record 124 of Set 1 | kalmunai\n",
      "Processing Record 125 of Set 1 | makung\n",
      "Processing Record 126 of Set 1 | mangalam\n",
      "Processing Record 127 of Set 1 | khatanga\n",
      "Processing Record 128 of Set 1 | comodoro rivadavia\n",
      "Processing Record 129 of Set 1 | nouadhibou\n",
      "Processing Record 130 of Set 1 | kyela\n",
      "Processing Record 131 of Set 1 | ilulissat\n",
      "Processing Record 132 of Set 1 | port elizabeth\n",
      "Processing Record 133 of Set 1 | auki\n",
      "Processing Record 134 of Set 1 | kampene\n",
      "Processing Record 135 of Set 1 | karakendzha\n",
      "Processing Record 136 of Set 1 | dingle\n",
      "Processing Record 137 of Set 1 | serro\n",
      "Processing Record 138 of Set 1 | floriano\n",
      "Processing Record 139 of Set 1 | geraldton\n",
      "Processing Record 140 of Set 1 | yenagoa\n",
      "Processing Record 141 of Set 1 | kedrovyy\n",
      "Processing Record 142 of Set 1 | saquarema\n",
      "Processing Record 143 of Set 1 | praia\n",
      "Processing Record 144 of Set 1 | arraial do cabo\n",
      "Processing Record 145 of Set 1 | port macquarie\n",
      "Processing Record 146 of Set 1 | bathsheba\n",
      "Processing Record 147 of Set 1 | te anau\n",
      "Processing Record 148 of Set 1 | ritchie\n",
      "Processing Record 149 of Set 1 | norman wells\n",
      "Processing Record 150 of Set 1 | tolaga bay\n",
      "Processing Record 151 of Set 1 | palmer\n",
      "Processing Record 152 of Set 1 | corrales\n",
      "Processing Record 153 of Set 1 | nuuk\n",
      "Processing Record 154 of Set 1 | jurado\n",
      "Processing Record 155 of Set 1 | lebu\n",
      "Processing Record 156 of Set 1 | ballina\n",
      "Processing Record 157 of Set 1 | san patricio\n",
      "Processing Record 158 of Set 1 | faya\n",
      "Processing Record 159 of Set 1 | galiwinku\n",
      "Processing Record 160 of Set 1 | pangnirtung\n",
      "Processing Record 161 of Set 1 | nadym\n",
      "Processing Record 162 of Set 1 | san buenaventura\n",
      "Processing Record 163 of Set 1 | roebourne\n",
      "Processing Record 164 of Set 1 | sitka\n",
      "Processing Record 165 of Set 1 | urdzhar\n",
      "Processing Record 166 of Set 1 | waipawa\n",
      "Processing Record 167 of Set 1 | harer\n",
      "Processing Record 168 of Set 1 | doka\n",
      "Processing Record 169 of Set 1 | kikwit\n",
      "Processing Record 170 of Set 1 | kapit\n",
      "Processing Record 171 of Set 1 | pisco\n",
      "Processing Record 172 of Set 1 | marshall\n",
      "Processing Record 173 of Set 1 | armidale\n",
      "Processing Record 174 of Set 1 | aksarka\n",
      "Processing Record 175 of Set 1 | broken hill\n",
      "Processing Record 176 of Set 1 | cidreira\n",
      "Processing Record 177 of Set 1 | isabela\n",
      "Processing Record 178 of Set 1 | kuanshan\n",
      "Processing Record 179 of Set 1 | esperance\n",
      "Processing Record 180 of Set 1 | hasaki\n",
      "Processing Record 181 of Set 1 | lagoa\n",
      "Processing Record 182 of Set 1 | hilo\n",
      "Processing Record 183 of Set 1 | ilebo\n",
      "Processing Record 184 of Set 1 | takoradi\n",
      "Processing Record 185 of Set 1 | kholodnyy\n",
      "Processing Record 186 of Set 1 | molina\n",
      "Processing Record 187 of Set 1 | nikolskoye\n",
      "Processing Record 188 of Set 1 | artesia\n",
      "Processing Record 189 of Set 1 | noumea\n",
      "Processing Record 190 of Set 1 | sentyabrskiy\n",
      "Processing Record 191 of Set 1 | tela\n",
      "Processing Record 192 of Set 1 | korla\n",
      "Processing Record 193 of Set 1 | chuy\n",
      "Processing Record 194 of Set 1 | kalianget\n",
      "Processing Record 195 of Set 1 | skalistyy\n",
      "Processing Record 196 of Set 1 | chardara\n",
      "Processing Record 197 of Set 1 | siyabuswa\n",
      "Processing Record 198 of Set 1 | baghdad\n",
      "Processing Record 199 of Set 1 | lang suan\n",
      "Processing Record 200 of Set 1 | monteagudo\n",
      "Processing Record 201 of Set 1 | constitucion\n",
      "Processing Record 202 of Set 1 | san jose\n",
      "Processing Record 203 of Set 1 | moree\n",
      "Processing Record 204 of Set 1 | aliwal north\n",
      "Processing Record 205 of Set 1 | xiuyan\n",
      "Processing Record 206 of Set 1 | the valley\n",
      "Processing Record 207 of Set 1 | attawapiskat\n",
      "Processing Record 208 of Set 1 | nizhniy ingash\n",
      "Processing Record 209 of Set 1 | yarmouth\n",
      "Processing Record 210 of Set 1 | villarrica\n",
      "Processing Record 211 of Set 1 | butaritari\n",
      "Processing Record 212 of Set 1 | karkaralinsk\n",
      "Processing Record 213 of Set 1 | evensk\n",
      "Processing Record 214 of Set 1 | san carlos de bariloche\n",
      "Processing Record 215 of Set 1 | rungata\n",
      "Processing Record 216 of Set 1 | vardo\n",
      "Processing Record 217 of Set 1 | qaanaaq\n",
      "Processing Record 218 of Set 1 | parabel\n",
      "Processing Record 219 of Set 1 | honningsvag\n",
      "Processing Record 220 of Set 1 | manta\n",
      "Processing Record 221 of Set 1 | darhan\n",
      "Processing Record 222 of Set 1 | sur\n",
      "Processing Record 223 of Set 1 | raudeberg\n",
      "Processing Record 224 of Set 1 | filingue\n",
      "Processing Record 225 of Set 1 | thompson\n",
      "Processing Record 226 of Set 1 | tiksi\n",
      "Processing Record 227 of Set 1 | umzimvubu\n",
      "Processing Record 228 of Set 1 | tomatlan\n",
      "Processing Record 229 of Set 1 | sorland\n",
      "Processing Record 230 of Set 1 | gornopravdinsk\n",
      "Processing Record 231 of Set 1 | castro\n",
      "Processing Record 232 of Set 1 | husavik\n",
      "Processing Record 233 of Set 1 | ruatoria\n",
      "Processing Record 234 of Set 1 | nizhneyansk\n",
      "Processing Record 235 of Set 1 | lompoc\n",
      "Processing Record 236 of Set 1 | kinango\n",
      "Processing Record 237 of Set 1 | rawannawi\n",
      "Processing Record 238 of Set 1 | san jeronimo\n",
      "Processing Record 239 of Set 1 | hami\n",
      "Processing Record 240 of Set 1 | lodingen\n",
      "Processing Record 241 of Set 1 | coihaique\n",
      "Processing Record 242 of Set 1 | powell river\n",
      "Processing Record 243 of Set 1 | ancud\n",
      "Processing Record 244 of Set 1 | fort nelson\n",
      "Processing Record 245 of Set 1 | nouakchott\n",
      "Processing Record 246 of Set 1 | lata\n",
      "Processing Record 247 of Set 1 | cooma\n",
      "Processing Record 248 of Set 1 | aksu\n",
      "Processing Record 249 of Set 1 | kaitangata\n",
      "Processing Record 250 of Set 1 | caravelas\n",
      "Processing Record 251 of Set 1 | crnomelj\n",
      "Processing Record 252 of Set 1 | jinchang\n",
      "Processing Record 253 of Set 1 | aktash\n",
      "Processing Record 254 of Set 1 | palabuhanratu\n",
      "Processing Record 255 of Set 1 | rudbar\n",
      "Processing Record 256 of Set 1 | bairiki\n",
      "Processing Record 257 of Set 1 | macamic\n",
      "Processing Record 258 of Set 1 | tuatapere\n",
      "Processing Record 259 of Set 1 | namibe\n",
      "Processing Record 260 of Set 1 | vostok\n",
      "Processing Record 261 of Set 1 | nago\n",
      "Processing Record 262 of Set 1 | eyl\n",
      "Processing Record 263 of Set 1 | margate\n",
      "Processing Record 264 of Set 1 | oleksandrivka\n",
      "Processing Record 265 of Set 1 | jiddah\n",
      "Processing Record 266 of Set 1 | aduturai\n",
      "Processing Record 267 of Set 1 | raga\n",
      "Processing Record 268 of Set 1 | gogrial\n",
      "Processing Record 269 of Set 1 | merauke\n",
      "Processing Record 270 of Set 1 | saint-joseph\n",
      "Processing Record 271 of Set 1 | samarai\n",
      "Processing Record 272 of Set 1 | bilma\n",
      "Processing Record 273 of Set 1 | guerrero negro\n",
      "Processing Record 274 of Set 1 | bambous virieux\n",
      "Processing Record 275 of Set 1 | port blair\n",
      "Processing Record 276 of Set 1 | san teodoro\n",
      "Processing Record 277 of Set 1 | namatanai\n",
      "Processing Record 278 of Set 1 | tasiilaq\n",
      "Processing Record 279 of Set 1 | fukuma\n",
      "Processing Record 280 of Set 1 | toora-khem\n",
      "Processing Record 281 of Set 1 | coquimbo\n",
      "Processing Record 282 of Set 1 | yaan\n",
      "Processing Record 283 of Set 1 | waseca\n",
      "Processing Record 284 of Set 1 | inhambane\n",
      "Processing Record 285 of Set 1 | clyde river\n",
      "Processing Record 286 of Set 1 | kodinsk\n",
      "Processing Record 287 of Set 1 | qandala\n",
      "Processing Record 288 of Set 1 | arman\n",
      "Processing Record 289 of Set 1 | ongandjera\n",
      "Processing Record 290 of Set 1 | turukhansk\n",
      "Processing Record 291 of Set 1 | pacific grove\n",
      "Processing Record 292 of Set 1 | ketchikan\n",
      "Processing Record 293 of Set 1 | challakere\n",
      "Processing Record 294 of Set 1 | weinan\n",
      "Processing Record 295 of Set 1 | klaksvik\n",
      "Processing Record 296 of Set 1 | vaitupu\n",
      "Processing Record 297 of Set 1 | carnarvon\n",
      "Processing Record 298 of Set 1 | padang\n",
      "Processing Record 299 of Set 1 | alwar\n",
      "Processing Record 300 of Set 1 | concordia\n",
      "Processing Record 301 of Set 1 | pyapon\n",
      "Processing Record 302 of Set 1 | taraclia\n",
      "Processing Record 303 of Set 1 | neiafu\n",
      "Processing Record 304 of Set 1 | batsfjord\n",
      "Processing Record 305 of Set 1 | herat\n",
      "Processing Record 306 of Set 1 | zhezkazgan\n",
      "Processing Record 307 of Set 1 | alyangula\n",
      "Processing Record 308 of Set 1 | sambava\n",
      "Processing Record 309 of Set 1 | odate\n",
      "Processing Record 310 of Set 1 | glendive\n",
      "Processing Record 311 of Set 1 | awbari\n",
      "Processing Record 312 of Set 1 | deputatskiy\n",
      "Processing Record 313 of Set 1 | mahebourg\n",
      "Processing Record 314 of Set 1 | nantucket\n",
      "Processing Record 315 of Set 1 | lavrentiya\n",
      "Processing Record 316 of Set 1 | maroantsetra\n",
      "Processing Record 317 of Set 1 | ambilobe\n",
      "Processing Record 318 of Set 1 | bengkulu\n",
      "Processing Record 319 of Set 1 | senneterre\n",
      "Processing Record 320 of Set 1 | port hedland\n",
      "Processing Record 321 of Set 1 | orcopampa\n",
      "Processing Record 322 of Set 1 | cabra\n",
      "Processing Record 323 of Set 1 | port hardy\n",
      "Processing Record 324 of Set 1 | verkhnyaya inta\n",
      "Processing Record 325 of Set 1 | kavaratti\n",
      "Processing Record 326 of Set 1 | churachandpur\n",
      "Processing Record 327 of Set 1 | buckeye\n",
      "Processing Record 328 of Set 1 | birobidzhan\n",
      "Processing Record 329 of Set 1 | amlagora\n",
      "Processing Record 330 of Set 1 | richards bay\n",
      "Processing Record 331 of Set 1 | hualmay\n",
      "Processing Record 332 of Set 1 | santa rosa\n",
      "Processing Record 333 of Set 1 | lorengau\n",
      "Processing Record 334 of Set 1 | vila velha\n",
      "Processing Record 335 of Set 1 | drochtersen\n",
      "Processing Record 336 of Set 1 | klokkarvik\n",
      "Processing Record 337 of Set 1 | honiara\n",
      "Processing Record 338 of Set 1 | narsaq\n",
      "Processing Record 339 of Set 1 | yulara\n",
      "Processing Record 340 of Set 1 | samalaeulu\n",
      "Processing Record 341 of Set 1 | hamilton\n",
      "Processing Record 342 of Set 1 | luderitz\n",
      "Processing Record 343 of Set 1 | hofn\n",
      "Processing Record 344 of Set 1 | whitianga\n",
      "Processing Record 345 of Set 1 | fairview\n",
      "Processing Record 346 of Set 1 | avera\n",
      "Processing Record 347 of Set 1 | nekhayevskiy\n",
      "Processing Record 348 of Set 1 | bako\n",
      "Processing Record 349 of Set 1 | zharkent\n",
      "Processing Record 350 of Set 1 | karauzyak\n",
      "Processing Record 351 of Set 1 | kochi\n",
      "Processing Record 352 of Set 1 | rakai\n",
      "Processing Record 353 of Set 1 | gamba\n",
      "Processing Record 354 of Set 1 | naftalan\n",
      "Processing Record 355 of Set 1 | mantua\n",
      "Processing Record 356 of Set 1 | kailua\n",
      "Processing Record 357 of Set 1 | prince george\n",
      "Processing Record 358 of Set 1 | kaeo\n",
      "Processing Record 359 of Set 1 | mabaruma\n",
      "Processing Record 360 of Set 1 | portales\n",
      "Processing Record 361 of Set 1 | broome\n",
      "Processing Record 362 of Set 1 | araouane\n",
      "Processing Record 363 of Set 1 | surgut\n",
      "Processing Record 364 of Set 1 | golden\n",
      "Processing Record 365 of Set 1 | seoul\n",
      "Processing Record 366 of Set 1 | hengshui\n",
      "Processing Record 367 of Set 1 | christiana\n",
      "Processing Record 368 of Set 1 | saint anthony\n",
      "Processing Record 369 of Set 1 | tucuman\n",
      "Processing Record 370 of Set 1 | chichli\n",
      "Processing Record 371 of Set 1 | toliary\n",
      "Processing Record 372 of Set 1 | ucluelet\n",
      "Processing Record 373 of Set 1 | hebertville\n",
      "Processing Record 374 of Set 1 | berea\n",
      "Processing Record 375 of Set 1 | dongying\n",
      "Processing Record 376 of Set 1 | alboraya\n",
      "Processing Record 377 of Set 1 | arvika\n",
      "Processing Record 378 of Set 1 | shingu\n",
      "Processing Record 379 of Set 1 | waddan\n",
      "Processing Record 380 of Set 1 | rivera\n",
      "Processing Record 381 of Set 1 | lacolle\n",
      "Processing Record 382 of Set 1 | bilibino\n",
      "Processing Record 383 of Set 1 | fengxian\n",
      "Processing Record 384 of Set 1 | sept-iles\n",
      "Processing Record 385 of Set 1 | doha\n",
      "Processing Record 386 of Set 1 | celestun\n",
      "Processing Record 387 of Set 1 | camacupa\n",
      "Processing Record 388 of Set 1 | kokstad\n",
      "Processing Record 389 of Set 1 | palmares do sul\n",
      "Processing Record 390 of Set 1 | atocha\n",
      "Processing Record 391 of Set 1 | sao joaquim\n",
      "Processing Record 392 of Set 1 | tawkar\n",
      "Processing Record 393 of Set 1 | lososina\n",
      "Processing Record 394 of Set 1 | okhotsk\n",
      "Processing Record 395 of Set 1 | varhaug\n",
      "Processing Record 396 of Set 1 | porto walter\n",
      "Processing Record 397 of Set 1 | brzeziny\n",
      "Processing Record 398 of Set 1 | ushtobe\n",
      "Processing Record 399 of Set 1 | yantzaza\n",
      "Processing Record 400 of Set 1 | camacha\n",
      "Processing Record 401 of Set 1 | karratha\n",
      "Processing Record 402 of Set 1 | weihe\n",
      "Processing Record 403 of Set 1 | zhanakorgan\n",
      "Processing Record 404 of Set 1 | talnakh\n",
      "Processing Record 405 of Set 1 | kalangala\n",
      "Processing Record 406 of Set 1 | barra do garcas\n",
      "Processing Record 407 of Set 1 | hovd\n",
      "Processing Record 408 of Set 1 | sandakan\n",
      "Processing Record 409 of Set 1 | henties bay\n",
      "Processing Record 410 of Set 1 | pimentel\n",
      "Processing Record 411 of Set 1 | posse\n",
      "Processing Record 412 of Set 1 | ouadda\n",
      "Processing Record 413 of Set 1 | durango\n",
      "Processing Record 414 of Set 1 | burg\n",
      "Processing Record 415 of Set 1 | shache\n",
      "Processing Record 416 of Set 1 | chengde\n",
      "Processing Record 417 of Set 1 | la palma\n",
      "Processing Record 418 of Set 1 | dalbandin\n",
      "Processing Record 419 of Set 1 | hay river\n",
      "Processing Record 420 of Set 1 | dinsor\n",
      "Processing Record 421 of Set 1 | wamba\n",
      "Processing Record 422 of Set 1 | luganville\n",
      "Processing Record 423 of Set 1 | kizhinga\n",
      "Processing Record 424 of Set 1 | sisimiut\n",
      "Processing Record 425 of Set 1 | mys shmidta\n",
      "Processing Record 426 of Set 1 | baculin\n",
      "Processing Record 427 of Set 1 | taltal\n",
      "Processing Record 428 of Set 1 | pundaguitan\n",
      "Processing Record 429 of Set 1 | severodvinsk\n",
      "Processing Record 430 of Set 1 | ormara\n",
      "Processing Record 431 of Set 1 | kichera\n",
      "Processing Record 432 of Set 1 | upington\n",
      "Processing Record 433 of Set 1 | perth\n",
      "Processing Record 434 of Set 1 | bull savanna\n",
      "Processing Record 435 of Set 1 | bamboo\n",
      "Processing Record 436 of Set 1 | kemijarvi\n",
      "Processing Record 437 of Set 1 | saint-georges\n",
      "Processing Record 438 of Set 1 | sola\n",
      "Processing Record 439 of Set 1 | selizharovo\n",
      "Processing Record 440 of Set 1 | batagay-alyta\n",
      "Processing Record 441 of Set 1 | verkhnevilyuysk\n",
      "Processing Record 442 of Set 1 | kudahuvadhoo\n",
      "Processing Record 443 of Set 1 | tucurui\n",
      "Processing Record 444 of Set 1 | miri\n",
      "Processing Record 445 of Set 1 | havoysund\n",
      "Processing Record 446 of Set 1 | ures\n",
      "Processing Record 447 of Set 1 | san borja\n",
      "Processing Record 448 of Set 1 | ahipara\n",
      "Processing Record 449 of Set 1 | nalut\n",
      "Processing Record 450 of Set 1 | karamea\n",
      "Processing Record 451 of Set 1 | mosetse\n",
      "Processing Record 452 of Set 1 | itarema\n",
      "Processing Record 453 of Set 1 | belaya kholunitsa\n",
      "Processing Record 454 of Set 1 | zhireken\n",
      "Processing Record 455 of Set 1 | pinos puente\n",
      "Processing Record 456 of Set 1 | virtsu\n",
      "Processing Record 457 of Set 1 | yar-sale\n",
      "Processing Record 458 of Set 1 | erzurum\n",
      "Processing Record 459 of Set 1 | taunggyi\n",
      "Processing Record 460 of Set 1 | poronaysk\n",
      "Processing Record 461 of Set 1 | fortuna\n",
      "Processing Record 462 of Set 1 | winnemucca\n",
      "Processing Record 463 of Set 1 | gravelbourg\n",
      "Processing Record 464 of Set 1 | chikola\n",
      "Processing Record 465 of Set 1 | belaya gora\n",
      "Processing Record 466 of Set 1 | athabasca\n",
      "Processing Record 467 of Set 1 | paradise\n",
      "Processing Record 468 of Set 1 | howard springs\n",
      "Processing Record 469 of Set 1 | paamiut\n",
      "Processing Record 470 of Set 1 | cruz do espirito santo\n",
      "Processing Record 471 of Set 1 | dukat\n",
      "Processing Record 472 of Set 1 | tumannyy\n",
      "Processing Record 473 of Set 1 | amuntai\n",
      "Processing Record 474 of Set 1 | davenda\n",
      "Processing Record 475 of Set 1 | baracoa\n",
      "Processing Record 476 of Set 1 | murindo\n",
      "Processing Record 477 of Set 1 | moindou\n",
      "Processing Record 478 of Set 1 | roswell\n",
      "Processing Record 479 of Set 1 | dolbeau\n",
      "Processing Record 480 of Set 1 | karasburg\n",
      "Processing Record 481 of Set 1 | fuerte olimpo\n",
      "Processing Record 482 of Set 1 | santa cruz\n",
      "Processing Record 483 of Set 1 | vestmannaeyjar\n",
      "Processing Record 484 of Set 1 | manakara\n",
      "Processing Record 485 of Set 1 | frohnleiten\n",
      "Processing Record 486 of Set 1 | marion\n",
      "Processing Record 487 of Set 1 | bay roberts\n",
      "Processing Record 488 of Set 1 | guilin\n",
      "Processing Record 489 of Set 1 | wichita falls\n",
      "Processing Record 490 of Set 1 | voh\n",
      "Processing Record 491 of Set 1 | verkhovazhye\n",
      "Processing Record 492 of Set 1 | las vegas\n",
      "Processing Record 493 of Set 1 | albanel\n",
      "Processing Record 494 of Set 1 | ikalamavony\n",
      "Processing Record 495 of Set 1 | grindavik\n",
      "Processing Record 496 of Set 1 | bubaque\n",
      "Processing Record 497 of Set 1 | meulaboh\n",
      "Processing Record 498 of Set 1 | dongsheng\n",
      "Processing Record 499 of Set 1 | matara\n",
      "Processing Record 500 of Set 1 | brae\n",
      "Processing Record 501 of Set 1 | adamas\n",
      "Processing Record 502 of Set 1 | akyab\n",
      "Processing Record 503 of Set 1 | kulhudhuffushi\n",
      "Processing Record 504 of Set 1 | lamar\n",
      "Processing Record 505 of Set 1 | usinsk\n",
      "Processing Record 506 of Set 1 | shenzhen\n",
      "Processing Record 507 of Set 1 | hong gai\n",
      "Processing Record 508 of Set 1 | tateyama\n",
      "Processing Record 509 of Set 1 | fairbanks\n",
      "Processing Record 510 of Set 1 | artyk\n",
      "Processing Record 511 of Set 1 | porto belo\n",
      "Processing Record 512 of Set 1 | havre-saint-pierre\n",
      "Processing Record 513 of Set 1 | baglung\n",
      "Processing Record 514 of Set 1 | nome\n",
      "Processing Record 515 of Set 1 | havelock\n",
      "Processing Record 516 of Set 1 | nipawin\n",
      "Processing Record 517 of Set 1 | ulaanbaatar\n",
      "Processing Record 518 of Set 1 | saravan\n",
      "Processing Record 519 of Set 1 | yeppoon\n",
      "Processing Record 520 of Set 1 | maravilla\n",
      "Processing Record 521 of Set 1 | anchorage\n",
      "Processing Record 522 of Set 1 | mashhad\n",
      "Processing Record 523 of Set 1 | hulan\n",
      "Processing Record 524 of Set 1 | aflu\n",
      "Processing Record 525 of Set 1 | aykhal\n",
      "Processing Record 526 of Set 1 | iranshahr\n",
      "Processing Record 527 of Set 1 | ust-ishim\n",
      "Processing Record 528 of Set 1 | sarangani\n",
      "Processing Record 529 of Set 1 | saint-louis\n",
      "Processing Record 530 of Set 1 | rawson\n",
      "Processing Record 531 of Set 1 | plettenberg bay\n",
      "Processing Record 532 of Set 1 | east moline\n",
      "Processing Record 533 of Set 1 | reinosa\n",
      "Processing Record 534 of Set 1 | mattru\n",
      "Processing Record 535 of Set 1 | baikunthpur\n",
      "Processing Record 536 of Set 1 | saint george\n",
      "Processing Record 537 of Set 1 | wajid\n",
      "Processing Record 538 of Set 1 | san cristobal\n",
      "Processing Record 539 of Set 1 | riyadh\n",
      "Processing Record 540 of Set 1 | huckeswagen\n",
      "Processing Record 541 of Set 1 | sakakah\n",
      "Processing Record 542 of Set 1 | lamballe\n",
      "Processing Record 543 of Set 1 | fort-shevchenko\n",
      "Processing Record 544 of Set 1 | xam nua\n",
      "Processing Record 545 of Set 1 | nazareno\n",
      "Processing Record 546 of Set 1 | mayumba\n",
      "Processing Record 547 of Set 1 | cap malheureux\n",
      "Processing Record 548 of Set 1 | los llanos de aridane\n",
      "Processing Record 549 of Set 1 | shimoda\n",
      "Processing Record 550 of Set 1 | boyolangu\n",
      "Processing Record 551 of Set 1 | ust-nera\n",
      "Processing Record 552 of Set 1 | mehran\n",
      "Processing Record 553 of Set 1 | myitkyina\n",
      "Processing Record 554 of Set 1 | west des moines\n",
      "Processing Record 555 of Set 1 | witrivier\n",
      "Processing Record 556 of Set 1 | carroll\n",
      "Processing Record 557 of Set 1 | visnes\n",
      "Processing Record 558 of Set 1 | mandalgovi\n",
      "Processing Record 559 of Set 1 | lardos\n",
      "Processing Record 560 of Set 1 | port-gentil\n",
      "Processing Record 561 of Set 1 | awjilah\n",
      "Processing Record 562 of Set 1 | sawtell\n",
      "Processing Record 563 of Set 1 | sertaozinho\n",
      "Processing Record 564 of Set 1 | bokovskaya\n",
      "Processing Record 565 of Set 1 | rocha\n",
      "Processing Record 566 of Set 1 | costinesti\n",
      "Processing Record 567 of Set 1 | whithorn\n",
      "Processing Record 568 of Set 1 | labuhan\n",
      "Processing Record 569 of Set 1 | vestmanna\n",
      "Processing Record 570 of Set 1 | svetlogorsk\n",
      "Processing Record 571 of Set 1 | canavieiras\n",
      "Processing Record 572 of Set 1 | omsukchan\n",
      "Processing Record 573 of Set 1 | banda aceh\n",
      "Processing Record 574 of Set 1 | kushiro\n",
      "Processing Record 575 of Set 1 | moerai\n",
      "Processing Record 576 of Set 1 | parana\n",
      "Processing Record 577 of Set 1 | murgab\n",
      "Processing Record 578 of Set 1 | puerto padre\n",
      "Processing Record 579 of Set 1 | eldikan\n",
      "Processing Record 580 of Set 1 | phon\n",
      "Processing Record 581 of Set 1 | olpad\n",
      "Processing Record 582 of Set 1 | canberra\n",
      "Processing Record 583 of Set 1 | tukrah\n",
      "Processing Record 584 of Set 1 | manono\n",
      "Processing Record 585 of Set 1 | opuwo\n",
      "Processing Record 586 of Set 1 | sinnamary\n",
      "Processing Record 587 of Set 1 | meadow lake\n",
      "Processing Record 588 of Set 1 | yongan\n",
      "Processing Record 589 of Set 1 | kieta\n",
      "Processing Record 590 of Set 1 | nishihara\n"
     ]
    }
   ],
   "source": [
    "response_json = []\n",
    "print(\"Beginning Data Retrieval\")\n",
    "print(\"--------------------\")\n",
    "for x in range(len(cities)):\n",
    "    print(f\"Processing Record {x} of Set 1 | {cities[x]}\")"
   ]
  },
  {
   "cell_type": "code",
   "execution_count": 4,
   "metadata": {},
   "outputs": [],
   "source": [
    "name=[]\n",
    "lat=[]\n",
    "lng=[]\n",
    "max_temp=[]\n",
    "humidity=[]\n",
    "cloudiness=[]\n",
    "wind_speed=[]\n",
    "country=[]\n",
    "date=[]\n",
    "\n",
    "for city in cities:\n",
    "    query_url = f\"http://api.openweathermap.org/data/2.5/weather?&appid=2c8925f5da0ee0bed8ce6fa9adb6b87c&units=metric&q={city}\"\n",
    "    response = requests.get(query_url).json()\n",
    "    #print(response)\n",
    "    try:\n",
    "        lat_x=response['coord']['lat']\n",
    "        lat.append(lat_x)\n",
    "        lng_x=response['coord']['lon']\n",
    "        lng.append(lng_x)\n",
    "        max_temp_x=response['main']['temp_max']\n",
    "        max_temp.append(max_temp_x)\n",
    "        humidity_x=response['main']['humidity']\n",
    "        humidity.append(humidity_x)\n",
    "        cloudiness_x=response['clouds']['all']\n",
    "        cloudiness.append(cloudiness_x)\n",
    "        wind_speed_x=response['wind']['speed']\n",
    "        wind_speed.append(wind_speed_x)\n",
    "        country_x=response['sys']['country']\n",
    "        country.append(country_x)\n",
    "        date_x=response['dt']\n",
    "        date.append(date_x)\n",
    "        name_x=response['name']\n",
    "        name.append(name_x)  \n",
    "    except:\n",
    "        \n",
    "        #print('City not found')\n",
    "        \n",
    "        pass\n",
    "\n",
    "\n",
    "\n",
    "\n",
    "\n",
    "\n",
    "\n"
   ]
  },
  {
   "cell_type": "markdown",
   "metadata": {},
   "source": [
    "### Convert Raw Data to DataFrame\n",
    "* Export the city data into a .csv.\n",
    "* Display the DataFrame"
   ]
  },
  {
   "cell_type": "code",
   "execution_count": 5,
   "metadata": {},
   "outputs": [
    {
     "data": {
      "text/html": [
       "<div>\n",
       "<style scoped>\n",
       "    .dataframe tbody tr th:only-of-type {\n",
       "        vertical-align: middle;\n",
       "    }\n",
       "\n",
       "    .dataframe tbody tr th {\n",
       "        vertical-align: top;\n",
       "    }\n",
       "\n",
       "    .dataframe thead th {\n",
       "        text-align: right;\n",
       "    }\n",
       "</style>\n",
       "<table border=\"1\" class=\"dataframe\">\n",
       "  <thead>\n",
       "    <tr style=\"text-align: right;\">\n",
       "      <th></th>\n",
       "      <th>City</th>\n",
       "      <th>Lat</th>\n",
       "      <th>Lng</th>\n",
       "      <th>Max Temp</th>\n",
       "      <th>Humidity</th>\n",
       "      <th>Cloudiness</th>\n",
       "      <th>Wind Speed</th>\n",
       "      <th>Country</th>\n",
       "      <th>Date</th>\n",
       "    </tr>\n",
       "  </thead>\n",
       "  <tbody>\n",
       "    <tr>\n",
       "      <th>0</th>\n",
       "      <td>Provideniya</td>\n",
       "      <td>64.3833</td>\n",
       "      <td>-173.3000</td>\n",
       "      <td>4.00</td>\n",
       "      <td>52</td>\n",
       "      <td>0</td>\n",
       "      <td>6.00</td>\n",
       "      <td>RU</td>\n",
       "      <td>1619132497</td>\n",
       "    </tr>\n",
       "    <tr>\n",
       "      <th>1</th>\n",
       "      <td>Aklavik</td>\n",
       "      <td>68.2191</td>\n",
       "      <td>-135.0107</td>\n",
       "      <td>-3.00</td>\n",
       "      <td>54</td>\n",
       "      <td>20</td>\n",
       "      <td>2.57</td>\n",
       "      <td>CA</td>\n",
       "      <td>1619132497</td>\n",
       "    </tr>\n",
       "    <tr>\n",
       "      <th>2</th>\n",
       "      <td>Ponta do Sol</td>\n",
       "      <td>32.6667</td>\n",
       "      <td>-17.1000</td>\n",
       "      <td>18.33</td>\n",
       "      <td>90</td>\n",
       "      <td>86</td>\n",
       "      <td>2.24</td>\n",
       "      <td>PT</td>\n",
       "      <td>1619132498</td>\n",
       "    </tr>\n",
       "    <tr>\n",
       "      <th>3</th>\n",
       "      <td>Saint Paul Harbor</td>\n",
       "      <td>57.7900</td>\n",
       "      <td>-152.4072</td>\n",
       "      <td>6.00</td>\n",
       "      <td>87</td>\n",
       "      <td>90</td>\n",
       "      <td>5.66</td>\n",
       "      <td>US</td>\n",
       "      <td>1619132498</td>\n",
       "    </tr>\n",
       "    <tr>\n",
       "      <th>4</th>\n",
       "      <td>Vao</td>\n",
       "      <td>-22.6667</td>\n",
       "      <td>167.4833</td>\n",
       "      <td>23.48</td>\n",
       "      <td>73</td>\n",
       "      <td>32</td>\n",
       "      <td>2.51</td>\n",
       "      <td>NC</td>\n",
       "      <td>1619132499</td>\n",
       "    </tr>\n",
       "  </tbody>\n",
       "</table>\n",
       "</div>"
      ],
      "text/plain": [
       "                City      Lat       Lng  Max Temp  Humidity  Cloudiness  \\\n",
       "0        Provideniya  64.3833 -173.3000      4.00        52           0   \n",
       "1            Aklavik  68.2191 -135.0107     -3.00        54          20   \n",
       "2       Ponta do Sol  32.6667  -17.1000     18.33        90          86   \n",
       "3  Saint Paul Harbor  57.7900 -152.4072      6.00        87          90   \n",
       "4                Vao -22.6667  167.4833     23.48        73          32   \n",
       "\n",
       "   Wind Speed Country        Date  \n",
       "0        6.00      RU  1619132497  \n",
       "1        2.57      CA  1619132497  \n",
       "2        2.24      PT  1619132498  \n",
       "3        5.66      US  1619132498  \n",
       "4        2.51      NC  1619132499  "
      ]
     },
     "execution_count": 5,
     "metadata": {},
     "output_type": "execute_result"
    }
   ],
   "source": [
    "weather_data = pd.DataFrame({\n",
    "    \"City\": name,\n",
    "    \"Lat\": lat,\n",
    "    \"Lng\": lng,\n",
    "    \"Max Temp\": max_temp,\n",
    "    \"Humidity\": humidity,\n",
    "    \"Cloudiness\": cloudiness,\n",
    "    \"Wind Speed\": wind_speed,\n",
    "    \"Country\": country,\n",
    "    \"Date\": date\n",
    "})\n",
    "\n",
    "weather_data.head()"
   ]
  },
  {
   "cell_type": "code",
   "execution_count": 6,
   "metadata": {},
   "outputs": [
    {
     "data": {
      "text/html": [
       "<div>\n",
       "<style scoped>\n",
       "    .dataframe tbody tr th:only-of-type {\n",
       "        vertical-align: middle;\n",
       "    }\n",
       "\n",
       "    .dataframe tbody tr th {\n",
       "        vertical-align: top;\n",
       "    }\n",
       "\n",
       "    .dataframe thead th {\n",
       "        text-align: right;\n",
       "    }\n",
       "</style>\n",
       "<table border=\"1\" class=\"dataframe\">\n",
       "  <thead>\n",
       "    <tr style=\"text-align: right;\">\n",
       "      <th></th>\n",
       "      <th>Lat</th>\n",
       "      <th>Lng</th>\n",
       "      <th>Max Temp</th>\n",
       "      <th>Humidity</th>\n",
       "      <th>Cloudiness</th>\n",
       "      <th>Wind Speed</th>\n",
       "      <th>Date</th>\n",
       "    </tr>\n",
       "  </thead>\n",
       "  <tbody>\n",
       "    <tr>\n",
       "      <th>count</th>\n",
       "      <td>545.000000</td>\n",
       "      <td>545.000000</td>\n",
       "      <td>545.000000</td>\n",
       "      <td>545.000000</td>\n",
       "      <td>545.000000</td>\n",
       "      <td>545.000000</td>\n",
       "      <td>5.450000e+02</td>\n",
       "    </tr>\n",
       "    <tr>\n",
       "      <th>mean</th>\n",
       "      <td>19.186134</td>\n",
       "      <td>19.493919</td>\n",
       "      <td>15.310936</td>\n",
       "      <td>68.227523</td>\n",
       "      <td>52.722936</td>\n",
       "      <td>3.647303</td>\n",
       "      <td>1.619133e+09</td>\n",
       "    </tr>\n",
       "    <tr>\n",
       "      <th>std</th>\n",
       "      <td>33.561472</td>\n",
       "      <td>91.543388</td>\n",
       "      <td>10.933758</td>\n",
       "      <td>23.521571</td>\n",
       "      <td>37.798254</td>\n",
       "      <td>2.580827</td>\n",
       "      <td>8.748001e+01</td>\n",
       "    </tr>\n",
       "    <tr>\n",
       "      <th>min</th>\n",
       "      <td>-54.800000</td>\n",
       "      <td>-175.200000</td>\n",
       "      <td>-17.270000</td>\n",
       "      <td>6.000000</td>\n",
       "      <td>0.000000</td>\n",
       "      <td>0.150000</td>\n",
       "      <td>1.619132e+09</td>\n",
       "    </tr>\n",
       "    <tr>\n",
       "      <th>25%</th>\n",
       "      <td>-9.800000</td>\n",
       "      <td>-65.712500</td>\n",
       "      <td>7.410000</td>\n",
       "      <td>53.000000</td>\n",
       "      <td>14.000000</td>\n",
       "      <td>1.760000</td>\n",
       "      <td>1.619133e+09</td>\n",
       "    </tr>\n",
       "    <tr>\n",
       "      <th>50%</th>\n",
       "      <td>23.400000</td>\n",
       "      <td>25.161100</td>\n",
       "      <td>17.000000</td>\n",
       "      <td>75.000000</td>\n",
       "      <td>61.000000</td>\n",
       "      <td>3.090000</td>\n",
       "      <td>1.619133e+09</td>\n",
       "    </tr>\n",
       "    <tr>\n",
       "      <th>75%</th>\n",
       "      <td>46.485600</td>\n",
       "      <td>100.451700</td>\n",
       "      <td>25.000000</td>\n",
       "      <td>87.000000</td>\n",
       "      <td>90.000000</td>\n",
       "      <td>5.000000</td>\n",
       "      <td>1.619133e+09</td>\n",
       "    </tr>\n",
       "    <tr>\n",
       "      <th>max</th>\n",
       "      <td>78.218600</td>\n",
       "      <td>178.416700</td>\n",
       "      <td>35.000000</td>\n",
       "      <td>100.000000</td>\n",
       "      <td>100.000000</td>\n",
       "      <td>18.610000</td>\n",
       "      <td>1.619133e+09</td>\n",
       "    </tr>\n",
       "  </tbody>\n",
       "</table>\n",
       "</div>"
      ],
      "text/plain": [
       "              Lat         Lng    Max Temp    Humidity  Cloudiness  Wind Speed  \\\n",
       "count  545.000000  545.000000  545.000000  545.000000  545.000000  545.000000   \n",
       "mean    19.186134   19.493919   15.310936   68.227523   52.722936    3.647303   \n",
       "std     33.561472   91.543388   10.933758   23.521571   37.798254    2.580827   \n",
       "min    -54.800000 -175.200000  -17.270000    6.000000    0.000000    0.150000   \n",
       "25%     -9.800000  -65.712500    7.410000   53.000000   14.000000    1.760000   \n",
       "50%     23.400000   25.161100   17.000000   75.000000   61.000000    3.090000   \n",
       "75%     46.485600  100.451700   25.000000   87.000000   90.000000    5.000000   \n",
       "max     78.218600  178.416700   35.000000  100.000000  100.000000   18.610000   \n",
       "\n",
       "               Date  \n",
       "count  5.450000e+02  \n",
       "mean   1.619133e+09  \n",
       "std    8.748001e+01  \n",
       "min    1.619132e+09  \n",
       "25%    1.619133e+09  \n",
       "50%    1.619133e+09  \n",
       "75%    1.619133e+09  \n",
       "max    1.619133e+09  "
      ]
     },
     "execution_count": 6,
     "metadata": {},
     "output_type": "execute_result"
    }
   ],
   "source": [
    "weather_data.describe()"
   ]
  },
  {
   "cell_type": "code",
   "execution_count": 8,
   "metadata": {},
   "outputs": [],
   "source": [
    "weather_data.to_csv('cities.csv')"
   ]
  },
  {
   "cell_type": "markdown",
   "metadata": {},
   "source": [
    "## Inspect the data and remove the cities where the humidity > 100%.\n",
    "----\n",
    "Skip this step if there are no cities that have humidity > 100%. "
   ]
  },
  {
   "cell_type": "code",
   "execution_count": 9,
   "metadata": {},
   "outputs": [
    {
     "data": {
      "text/plain": [
       "0"
      ]
     },
     "execution_count": 9,
     "metadata": {},
     "output_type": "execute_result"
    }
   ],
   "source": [
    "very_humid=weather_data.loc[weather_data['Humidity']>100, :]\n",
    "very_humid['Humidity'].count()"
   ]
  },
  {
   "cell_type": "markdown",
   "metadata": {},
   "source": [
    "## Plotting the Data\n",
    "* Use proper labeling of the plots using plot titles (including date of analysis) and axes labels.\n",
    "* Save the plotted figures as .pngs."
   ]
  },
  {
   "cell_type": "code",
   "execution_count": 12,
   "metadata": {},
   "outputs": [
    {
     "data": {
      "image/png": "[encoded data removed]",
      "text/plain": [
       "<Figure size 432x288 with 1 Axes>"
      ]
     },
     "metadata": {
      "needs_background": "light"
     },
     "output_type": "display_data"
    }
   ],
   "source": [
    "plt.title(\"City Latitude vs. Max Temperature (04/22/21)\")\n",
    "plt.xlabel(\"Latitude\")\n",
    "plt.ylabel(\"Max Temperature (C)\")\n",
    "\n",
    "plt.scatter(lat, max_temp, marker=\"o\", color=\"red\")\n",
    "plt.show()\n"
   ]
  },
  {
   "cell_type": "code",
   "execution_count": null,
   "metadata": {},
   "outputs": [],
   "source": [
    "\"This plot is analyzing the relationship between a city's latitude and it's max temperature. \""
   ]
  },
  {
   "cell_type": "markdown",
   "metadata": {},
   "source": [
    "## Latitude vs. Humidity Plot"
   ]
  },
  {
   "cell_type": "code",
   "execution_count": 13,
   "metadata": {},
   "outputs": [
    {
     "data": {
      "image/png": "[encoded data removed]",
      "text/plain": [
       "<Figure size 432x288 with 1 Axes>"
      ]
     },
     "metadata": {
      "needs_background": "light"
     },
     "output_type": "display_data"
    }
   ],
   "source": [
    "plt.title(\"City Latitude vs. Humidity (04/22/21)\")\n",
    "plt.xlabel(\"Latitude\")\n",
    "plt.ylabel(\"Humidity (%)\")\n",
    "\n",
    "plt.scatter(lat, humidity, marker=\"o\", color=\"red\")\n",
    "plt.show()\n"
   ]
  },
  {
   "cell_type": "code",
   "execution_count": null,
   "metadata": {},
   "outputs": [],
   "source": [
    "\"This figure shows the relationship between the City's latitude and its humidity percentage.\""
   ]
  },
  {
   "cell_type": "markdown",
   "metadata": {},
   "source": [
    "## Latitude vs. Cloudiness Plot"
   ]
  },
  {
   "cell_type": "code",
   "execution_count": 14,
   "metadata": {},
   "outputs": [
    {
     "data": {
      "image/png": "[encoded data removed]",
      "text/plain": [
       "<Figure size 432x288 with 1 Axes>"
      ]
     },
     "metadata": {
      "needs_background": "light"
     },
     "output_type": "display_data"
    }
   ],
   "source": [
    "plt.title(\"City Latitude vs. Cloudiness (04/22/21)\")\n",
    "plt.xlabel(\"Latitude\")\n",
    "plt.ylabel(\"Cloudiness (%)\")\n",
    "\n",
    "plt.scatter(lat, cloudiness, marker=\"o\", color=\"red\")\n",
    "plt.show()\n"
   ]
  },
  {
   "cell_type": "code",
   "execution_count": null,
   "metadata": {},
   "outputs": [],
   "source": [
    "\"The plot shows the relationship between the city's latitudinal location and its cloudiness percentage.\""
   ]
  },
  {
   "cell_type": "markdown",
   "metadata": {},
   "source": [
    "## Latitude vs. Wind Speed Plot"
   ]
  },
  {
   "cell_type": "code",
   "execution_count": 15,
   "metadata": {},
   "outputs": [
    {
     "data": {
      "image/png": "[encoded data removed]",
      "text/plain": [
       "<Figure size 432x288 with 1 Axes>"
      ]
     },
     "metadata": {
      "needs_background": "light"
     },
     "output_type": "display_data"
    }
   ],
   "source": [
    "plt.title(\"City Latitude vs. Wind Speed (04/22/21)\")\n",
    "plt.xlabel(\"Latitude\")\n",
    "plt.ylabel(\"Wind Speeed (mps)\")\n",
    "\n",
    "plt.scatter(lat, wind_speed, marker=\"o\", color=\"red\")\n",
    "plt.show()\n"
   ]
  },
  {
   "cell_type": "code",
   "execution_count": null,
   "metadata": {},
   "outputs": [],
   "source": [
    "\"This plot shows the relationship between the city's latitude and wind speed.\""
   ]
  },
  {
   "cell_type": "markdown",
   "metadata": {},
   "source": [
    "## Linear Regression"
   ]
  },
  {
   "cell_type": "markdown",
   "metadata": {},
   "source": [
    "####  Northern Hemisphere - Max Temp vs. Latitude Linear Regression"
   ]
  },
  {
   "cell_type": "code",
   "execution_count": 16,
   "metadata": {},
   "outputs": [
    {
     "name": "stdout",
     "output_type": "stream",
     "text": [
      "The r-squared is: 0.7877491810162012\n"
     ]
    },
    {
     "data": {
      "image/png": "[encoded data removed]",
      "text/plain": [
       "<Figure size 432x288 with 1 Axes>"
      ]
     },
     "metadata": {
      "needs_background": "light"
     },
     "output_type": "display_data"
    }
   ],
   "source": [
    "north_hem=weather_data.loc[weather_data['Lat']>0, :]\n",
    "x_values = north_hem['Lat']\n",
    "y_values = north_hem['Max Temp']\n",
    "(slope, intercept, rvalue, pvalue, stderr)=linregress(x_values, y_values)\n",
    "regress_values = x_values * slope + intercept\n",
    "line_eq = \"y = \" + str(round(slope,2)) + \"x + \" + str(round(intercept,2))\n",
    "plt.scatter(x_values,y_values)\n",
    "plt.plot(x_values,regress_values,\"r-\")\n",
    "plt.annotate(line_eq,(6,10),fontsize=15,color=\"red\")\n",
    "plt.title(\"NH-Max Temp vs. Latitude (04/22/21)\")\n",
    "plt.xlabel('Latitude')\n",
    "plt.ylabel('Max Temp (C)')\n",
    "print(f\"The r-squared is: {rvalue**2}\")\n",
    "plt.show()\n"
   ]
  },
  {
   "cell_type": "markdown",
   "metadata": {},
   "source": [
    "####  Southern Hemisphere - Max Temp vs. Latitude Linear Regression"
   ]
  },
  {
   "cell_type": "code",
   "execution_count": 17,
   "metadata": {},
   "outputs": [
    {
     "name": "stdout",
     "output_type": "stream",
     "text": [
      "The r-squared is: 0.4726220124730781\n"
     ]
    },
    {
     "data": {
      "image/png": "[encoded data removed]",
      "text/plain": [
       "<Figure size 432x288 with 1 Axes>"
      ]
     },
     "metadata": {
      "needs_background": "light"
     },
     "output_type": "display_data"
    }
   ],
   "source": [
    "south_hem=weather_data.loc[weather_data['Lat']<0, :]\n",
    "x_values = south_hem['Lat']\n",
    "y_values = south_hem['Max Temp']\n",
    "(slope, intercept, rvalue, pvalue, stderr)=linregress(x_values, y_values)\n",
    "regress_values = x_values * slope + intercept\n",
    "line_eq = \"y = \" + str(round(slope,2)) + \"x + \" + str(round(intercept,2))\n",
    "plt.scatter(x_values,y_values)\n",
    "plt.plot(x_values,regress_values,\"r-\")\n",
    "plt.annotate(line_eq,(-30,10),fontsize=15,color=\"red\")\n",
    "plt.title(\"SH-Max Temp vs. Latitude (04/22/21)\")\n",
    "plt.xlabel('Latitude')\n",
    "plt.ylabel('Max Temp (C)')\n",
    "print(f\"The r-squared is: {rvalue**2}\")\n",
    "plt.show()"
   ]
  },
  {
   "cell_type": "code",
   "execution_count": null,
   "metadata": {},
   "outputs": [],
   "source": [
    "\"There is a stronger correlation between Max Temp and Latitude in the Northern Hemisphere. It might be because there were more cities in the Northern Hemisphere.\""
   ]
  },
  {
   "cell_type": "markdown",
   "metadata": {},
   "source": [
    "####  Northern Hemisphere - Humidity (%) vs. Latitude Linear Regression"
   ]
  },
  {
   "cell_type": "code",
   "execution_count": 18,
   "metadata": {},
   "outputs": [
    {
     "name": "stdout",
     "output_type": "stream",
     "text": [
      "The r-squared is: 0.013971927479968652\n"
     ]
    },
    {
     "data": {
      "image/png": "[encoded data removed]",
      "text/plain": [
       "<Figure size 432x288 with 1 Axes>"
      ]
     },
     "metadata": {
      "needs_background": "light"
     },
     "output_type": "display_data"
    }
   ],
   "source": [
    "north_hem=weather_data.loc[weather_data['Lat']>0, :]\n",
    "x_values = north_hem['Lat']\n",
    "y_values = north_hem['Humidity']\n",
    "(slope, intercept, rvalue, pvalue, stderr)=linregress(x_values, y_values)\n",
    "regress_values = x_values * slope + intercept\n",
    "line_eq = \"y = \" + str(round(slope,2)) + \"x + \" + str(round(intercept,2))\n",
    "plt.scatter(x_values,y_values)\n",
    "plt.plot(x_values,regress_values,\"r-\")\n",
    "plt.annotate(line_eq,(6,10),fontsize=15,color=\"red\")\n",
    "plt.title(\"NH-Humidity vs. Latitude (04/22/21)\")\n",
    "plt.xlabel('Latitude')\n",
    "plt.ylabel('Humidity')\n",
    "print(f\"The r-squared is: {rvalue**2}\")\n",
    "plt.show()\n"
   ]
  },
  {
   "cell_type": "markdown",
   "metadata": {},
   "source": [
    "####  Southern Hemisphere - Humidity (%) vs. Latitude Linear Regression"
   ]
  },
  {
   "cell_type": "code",
   "execution_count": 19,
   "metadata": {},
   "outputs": [
    {
     "name": "stdout",
     "output_type": "stream",
     "text": [
      "The r-squared is: 0.017521998056595444\n"
     ]
    },
    {
     "data": {
      "image/png": "[encoded data removed]",
      "text/plain": [
       "<Figure size 432x288 with 1 Axes>"
      ]
     },
     "metadata": {
      "needs_background": "light"
     },
     "output_type": "display_data"
    }
   ],
   "source": [
    "south_hem=weather_data.loc[weather_data['Lat']<0, :]\n",
    "x_values = south_hem['Lat']\n",
    "y_values = south_hem['Humidity']\n",
    "(slope, intercept, rvalue, pvalue, stderr)=linregress(x_values, y_values)\n",
    "regress_values = x_values * slope + intercept\n",
    "line_eq = \"y = \" + str(round(slope,2)) + \"x + \" + str(round(intercept,2))\n",
    "plt.scatter(x_values,y_values)\n",
    "plt.plot(x_values,regress_values,\"r-\")\n",
    "plt.annotate(line_eq,(-30,20),fontsize=15,color=\"red\")\n",
    "plt.title(\"SH-Humidity vs Latitude (04/22/21)\")\n",
    "plt.xlabel('Latitude')\n",
    "plt.ylabel('Humidity')\n",
    "print(f\"The r-squared is: {rvalue**2}\")\n",
    "plt.show()"
   ]
  },
  {
   "cell_type": "code",
   "execution_count": null,
   "metadata": {},
   "outputs": [],
   "source": [
    "\"There seems to be little correlation in both hemispheres between humidity and a city's latitude.\""
   ]
  },
  {
   "cell_type": "markdown",
   "metadata": {},
   "source": [
    "####  Northern Hemisphere - Cloudiness (%) vs. Latitude Linear Regression"
   ]
  },
  {
   "cell_type": "code",
   "execution_count": 20,
   "metadata": {},
   "outputs": [
    {
     "name": "stdout",
     "output_type": "stream",
     "text": [
      "The r-squared is: 0.01978748948850203\n"
     ]
    },
    {
     "data": {
      "image/png": "[encoded data removed]",
      "text/plain": [
       "<Figure size 432x288 with 1 Axes>"
      ]
     },
     "metadata": {
      "needs_background": "light"
     },
     "output_type": "display_data"
    }
   ],
   "source": [
    "north_hem=weather_data.loc[weather_data['Lat']>0, :]\n",
    "x_values = north_hem['Lat']\n",
    "y_values = north_hem['Cloudiness']\n",
    "(slope, intercept, rvalue, pvalue, stderr)=linregress(x_values, y_values)\n",
    "regress_values = x_values * slope + intercept\n",
    "line_eq = \"y = \" + str(round(slope,2)) + \"x + \" + str(round(intercept,2))\n",
    "plt.scatter(x_values,y_values)\n",
    "plt.plot(x_values,regress_values,\"r-\")\n",
    "plt.annotate(line_eq,(6,10),fontsize=15,color=\"red\")\n",
    "plt.title(\"NH-Cloudiness vs Latitude (04/22/21)\")\n",
    "plt.xlabel('Latitude')\n",
    "plt.ylabel('Cloudiness')\n",
    "print(f\"The r-squared is: {rvalue**2}\")\n",
    "plt.show()\n"
   ]
  },
  {
   "cell_type": "markdown",
   "metadata": {},
   "source": [
    "####  Southern Hemisphere - Cloudiness (%) vs. Latitude Linear Regression"
   ]
  },
  {
   "cell_type": "code",
   "execution_count": 21,
   "metadata": {},
   "outputs": [
    {
     "name": "stdout",
     "output_type": "stream",
     "text": [
      "The r-squared is: 0.0005684461028326682\n"
     ]
    },
    {
     "data": {
      "image/png": "[encoded data removed]",
      "text/plain": [
       "<Figure size 432x288 with 1 Axes>"
      ]
     },
     "metadata": {
      "needs_background": "light"
     },
     "output_type": "display_data"
    }
   ],
   "source": [
    "south_hem=weather_data.loc[weather_data['Lat']<0, :]\n",
    "x_values = south_hem['Lat']\n",
    "y_values = south_hem['Cloudiness']\n",
    "(slope, intercept, rvalue, pvalue, stderr)=linregress(x_values, y_values)\n",
    "regress_values = x_values * slope + intercept\n",
    "line_eq = \"y = \" + str(round(slope,2)) + \"x + \" + str(round(intercept,2))\n",
    "plt.scatter(x_values,y_values)\n",
    "plt.plot(x_values,regress_values,\"r-\")\n",
    "plt.annotate(line_eq,(-50,20),fontsize=15,color=\"red\")\n",
    "plt.title(\"SH-Cloudiness vs Laittude (04/22/21)\")\n",
    "plt.xlabel('Latitude')\n",
    "plt.ylabel('Cloudiness')\n",
    "print(f\"The r-squared is: {rvalue**2}\")\n",
    "plt.show()"
   ]
  },
  {
   "cell_type": "code",
   "execution_count": null,
   "metadata": {},
   "outputs": [],
   "source": [
    "\"There is very little correlation between the cloudiness and latitude of a city.\""
   ]
  },
  {
   "cell_type": "markdown",
   "metadata": {},
   "source": [
    "####  Northern Hemisphere - Wind Speed (mph) vs. Latitude Linear Regression"
   ]
  },
  {
   "cell_type": "code",
   "execution_count": 22,
   "metadata": {},
   "outputs": [
    {
     "name": "stdout",
     "output_type": "stream",
     "text": [
      "The r-squared is: 0.0030759180558600904\n"
     ]
    },
    {
     "data": {
      "image/png": "[encoded data removed]",
      "text/plain": [
       "<Figure size 432x288 with 1 Axes>"
      ]
     },
     "metadata": {
      "needs_background": "light"
     },
     "output_type": "display_data"
    }
   ],
   "source": [
    "north_hem=weather_data.loc[weather_data['Lat']>0, :]\n",
    "x_values = north_hem['Lat']\n",
    "y_values = north_hem['Wind Speed']\n",
    "(slope, intercept, rvalue, pvalue, stderr)=linregress(x_values, y_values)\n",
    "regress_values = x_values * slope + intercept\n",
    "line_eq = \"y = \" + str(round(slope,2)) + \"x + \" + str(round(intercept,2))\n",
    "plt.scatter(x_values,y_values)\n",
    "plt.plot(x_values,regress_values,\"r-\")\n",
    "plt.annotate(line_eq,(6,10),fontsize=15,color=\"red\")\n",
    "plt.title(\"NH-Wind Speed vs Latitude (04/22/21)\")\n",
    "plt.xlabel('Latitude')\n",
    "plt.ylabel('Wind Speed')\n",
    "print(f\"The r-squared is: {rvalue**2}\")\n",
    "plt.show()\n"
   ]
  },
  {
   "cell_type": "markdown",
   "metadata": {},
   "source": [
    "####  Southern Hemisphere - Wind Speed (mph) vs. Latitude Linear Regression"
   ]
  },
  {
   "cell_type": "code",
   "execution_count": 23,
   "metadata": {},
   "outputs": [
    {
     "name": "stdout",
     "output_type": "stream",
     "text": [
      "The r-squared is: 0.003794780745429205\n"
     ]
    },
    {
     "data": {
      "image/png": "[encoded data removed]",
      "text/plain": [
       "<Figure size 432x288 with 1 Axes>"
      ]
     },
     "metadata": {
      "needs_background": "light"
     },
     "output_type": "display_data"
    }
   ],
   "source": [
    "south_hem=weather_data.loc[weather_data['Lat']<0, :]\n",
    "x_values = south_hem['Lat']\n",
    "y_values = south_hem['Wind Speed']\n",
    "(slope, intercept, rvalue, pvalue, stderr)=linregress(x_values, y_values)\n",
    "regress_values = x_values * slope + intercept\n",
    "line_eq = \"y = \" + str(round(slope,2)) + \"x + \" + str(round(intercept,2))\n",
    "plt.scatter(x_values,y_values)\n",
    "plt.plot(x_values,regress_values,\"r-\")\n",
    "plt.annotate(line_eq,(-40,12),fontsize=15,color=\"red\")\n",
    "plt.title(\"SH-Wind Speed vs Latitude (04/22/21)\")\n",
    "plt.xlabel('Latitude')\n",
    "plt.ylabel('Wind Speed')\n",
    "print(f\"The r-squared is: {rvalue**2}\")\n",
    "plt.show()\n"
   ]
  },
  {
   "cell_type": "code",
   "execution_count": null,
   "metadata": {},
   "outputs": [],
   "source": [
    "\"Both Northern and Southern Hemispheres are very little correlation between latitude and wind speed."
   ]
  }
 ],
 "metadata": {
  "anaconda-cloud": {},
  "kernel_info": {
   "name": "python3"
  },
  "kernelspec": {
   "display_name": "Python 3",
   "language": "python",
   "name": "python3"
  },
  "language_info": {
   "codemirror_mode": {
    "name": "ipython",
    "version": 3
   },
   "file_extension": ".py",
   "mimetype": "text/x-python",
   "name": "python",
   "nbconvert_exporter": "python",
   "pygments_lexer": "ipython3",
   "version": "3.8.5"
  },
  "latex_envs": {
   "LaTeX_envs_menu_present": true,
   "autoclose": false,
   "autocomplete": true,
   "bibliofile": "biblio.bib",
   "cite_by": "apalike",
   "current_citInitial": 1,
   "eqLabelWithNumbers": true,
   "eqNumInitial": 1,
   "hotkeys": {
    "equation": "Ctrl-E",
    "itemize": "Ctrl-I"
   },
   "labels_anchors": false,
   "latex_user_defs": false,
   "report_style_numbering": false,
   "user_envs_cfg": false
  },
  "nteract": {
   "version": "0.12.3"
  }
 },
 "nbformat": 4,
 "nbformat_minor": 2
}
